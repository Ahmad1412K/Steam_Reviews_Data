{
 "cells": [
  {
   "cell_type": "code",
   "execution_count": 2,
   "metadata": {},
   "outputs": [
    {
     "name": "stdout",
     "output_type": "stream",
     "text": [
      "10000\n"
     ]
    }
   ],
   "source": [
    "\"\"\"\n",
    "the csv containing the steam games and app ids from:\n",
    "https://github.com/dgibbs64/SteamCMD-AppID-List\n",
    "\"\"\"\n",
    "with open('SteamIDs.csv', encoding=\"utf8\") as f:\n",
    "    lines = f.readlines()\n",
    "    games = [tuple(line.strip().split(',')) for line in lines]\n",
    "\n",
    "print(len(games))"
   ]
  },
  {
   "cell_type": "code",
   "execution_count": 6,
   "metadata": {},
   "outputs": [],
   "source": [
    "import requests\n",
    "\n",
    "reviews = []\n",
    "for game in games: \n",
    "    url = \"https://store.steampowered.com/appreviews/\"+game[0]+\"?json=1&num_per_page=100\"\n",
    "    review = requests.get(url).json()\n",
    "    reviews.append({\n",
    "        'appId' : game[0],\n",
    "        'name': game[1],\n",
    "        'reviews' : review\n",
    "    })\n",
    "\n",
    "reviews"
   ]
  },
  {
   "cell_type": "code",
   "execution_count": 5,
   "metadata": {},
   "outputs": [
    {
     "name": "stdout",
     "output_type": "stream",
     "text": [
      "[ObjectId('6545df9bde3838bf52f03a8c'), ObjectId('6545df9bde3838bf52f03a8d'), ObjectId('6545df9bde3838bf52f03a8e'), ObjectId('6545df9bde3838bf52f03a8f'), ObjectId('6545df9bde3838bf52f03a90'), ObjectId('6545df9bde3838bf52f03a91'), ObjectId('6545df9bde3838bf52f03a92'), ObjectId('6545df9bde3838bf52f03a93'), ObjectId('6545df9bde3838bf52f03a94'), ObjectId('6545df9bde3838bf52f03a95')]\n"
     ]
    }
   ],
   "source": [
    "import pymongo\n",
    "\n",
    "myclient = pymongo.MongoClient(\"mongodb://localhost:27017?directConnection=true\")\n",
    "\n",
    "mydb = myclient[\"Steam\"]\n",
    "mycol = mydb[\"SteamReviews\"]\n",
    "\n",
    "x = mycol.insert_many(reviews)\n",
    "\n",
    "cursor = mycol.find().limit(100)\n",
    "for record in cursor:\n",
    "    print(record)"
   ]
  }
 ],
 "metadata": {
  "kernelspec": {
   "display_name": "Python 3",
   "language": "python",
   "name": "python3"
  },
  "language_info": {
   "codemirror_mode": {
    "name": "ipython",
    "version": 3
   },
   "file_extension": ".py",
   "mimetype": "text/x-python",
   "name": "python",
   "nbconvert_exporter": "python",
   "pygments_lexer": "ipython3",
   "version": "3.11.2"
  }
 },
 "nbformat": 4,
 "nbformat_minor": 2
}
